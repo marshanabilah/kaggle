{
 "cells": [
  {
   "cell_type": "code",
   "execution_count": 1,
   "id": "340fcd56",
   "metadata": {
    "_cell_guid": "b1076dfc-b9ad-4769-8c92-a6c4dae69d19",
    "_uuid": "8f2839f25d086af736a60e9eeb907d3b93b6e0e5",
    "execution": {
     "iopub.execute_input": "2025-09-24T09:25:47.370756Z",
     "iopub.status.busy": "2025-09-24T09:25:47.370367Z",
     "iopub.status.idle": "2025-09-24T09:25:49.438587Z",
     "shell.execute_reply": "2025-09-24T09:25:49.437453Z"
    },
    "papermill": {
     "duration": 2.077143,
     "end_time": "2025-09-24T09:25:49.440439",
     "exception": false,
     "start_time": "2025-09-24T09:25:47.363296",
     "status": "completed"
    },
    "tags": []
   },
   "outputs": [
    {
     "name": "stdout",
     "output_type": "stream",
     "text": [
      "/kaggle/input/store-sales-time-series-forecasting/oil.csv\n",
      "/kaggle/input/store-sales-time-series-forecasting/sample_submission.csv\n",
      "/kaggle/input/store-sales-time-series-forecasting/holidays_events.csv\n",
      "/kaggle/input/store-sales-time-series-forecasting/stores.csv\n",
      "/kaggle/input/store-sales-time-series-forecasting/train.csv\n",
      "/kaggle/input/store-sales-time-series-forecasting/test.csv\n",
      "/kaggle/input/store-sales-time-series-forecasting/transactions.csv\n"
     ]
    }
   ],
   "source": [
    "# This Python 3 environment comes with many helpful analytics libraries installed\n",
    "# It is defined by the kaggle/python Docker image: https://github.com/kaggle/docker-python\n",
    "# For example, here's several helpful packages to load\n",
    "\n",
    "import numpy as np # linear algebra\n",
    "import pandas as pd # data processing, CSV file I/O (e.g. pd.read_csv)\n",
    "\n",
    "# Input data files are available in the read-only \"../input/\" directory\n",
    "# For example, running this (by clicking run or pressing Shift+Enter) will list all files under the input directory\n",
    "\n",
    "import os\n",
    "for dirname, _, filenames in os.walk('/kaggle/input'):\n",
    "    for filename in filenames:\n",
    "        print(os.path.join(dirname, filename))\n",
    "\n",
    "# You can write up to 20GB to the current directory (/kaggle/working/) that gets preserved as output when you create a version using \"Save & Run All\" \n",
    "# You can also write temporary files to /kaggle/temp/, but they won't be saved outside of the current session"
   ]
  },
  {
   "cell_type": "code",
   "execution_count": 2,
   "id": "9155add7",
   "metadata": {
    "execution": {
     "iopub.execute_input": "2025-09-24T09:25:49.452272Z",
     "iopub.status.busy": "2025-09-24T09:25:49.451884Z",
     "iopub.status.idle": "2025-09-24T09:25:58.633103Z",
     "shell.execute_reply": "2025-09-24T09:25:58.632068Z"
    },
    "papermill": {
     "duration": 9.188906,
     "end_time": "2025-09-24T09:25:58.634742",
     "exception": false,
     "start_time": "2025-09-24T09:25:49.445836",
     "status": "completed"
    },
    "tags": []
   },
   "outputs": [],
   "source": [
    "import pandas as pd\n",
    "import seaborn as sns\n",
    "import matplotlib.pyplot as plt\n",
    "import numpy as np\n",
    "from sklearn.preprocessing import LabelEncoder\n",
    "import lightgbm as lgb\n",
    "from datetime import timedelta\n",
    "from statsmodels.tsa.stattools import adfuller\n",
    "from statsmodels.graphics.tsaplots import plot_acf"
   ]
  },
  {
   "cell_type": "markdown",
   "id": "6ae22fa8",
   "metadata": {
    "papermill": {
     "duration": 0.004484,
     "end_time": "2025-09-24T09:25:58.644206",
     "exception": false,
     "start_time": "2025-09-24T09:25:58.639722",
     "status": "completed"
    },
    "tags": []
   },
   "source": [
    "## Load data and quick overview"
   ]
  },
  {
   "cell_type": "code",
   "execution_count": 3,
   "id": "ae2b769f",
   "metadata": {
    "execution": {
     "iopub.execute_input": "2025-09-24T09:25:58.654987Z",
     "iopub.status.busy": "2025-09-24T09:25:58.654329Z",
     "iopub.status.idle": "2025-09-24T09:25:58.871324Z",
     "shell.execute_reply": "2025-09-24T09:25:58.870593Z"
    },
    "papermill": {
     "duration": 0.224053,
     "end_time": "2025-09-24T09:25:58.872864",
     "exception": false,
     "start_time": "2025-09-24T09:25:58.648811",
     "status": "completed"
    },
    "tags": []
   },
   "outputs": [],
   "source": [
    "# import data\n",
    "holiday = pd.read_csv(\"/kaggle/input/store-sales-time-series-forecasting/holidays_events.csv\", parse_dates=[\"date\"])\n",
    "oil = pd.read_csv(\"/kaggle/input/store-sales-time-series-forecasting/oil.csv\", parse_dates=[\"date\"])\n",
    "stores = pd.read_csv(\"/kaggle/input/store-sales-time-series-forecasting/stores.csv\")\n",
    "transactions = pd.read_csv(\"/kaggle/input/store-sales-time-series-forecasting/transactions.csv\")"
   ]
  },
  {
   "cell_type": "code",
   "execution_count": 4,
   "id": "af292fd3",
   "metadata": {
    "execution": {
     "iopub.execute_input": "2025-09-24T09:25:58.884041Z",
     "iopub.status.busy": "2025-09-24T09:25:58.883736Z",
     "iopub.status.idle": "2025-09-24T09:25:58.912521Z",
     "shell.execute_reply": "2025-09-24T09:25:58.911587Z"
    },
    "papermill": {
     "duration": 0.036056,
     "end_time": "2025-09-24T09:25:58.913998",
     "exception": false,
     "start_time": "2025-09-24T09:25:58.877942",
     "status": "completed"
    },
    "tags": []
   },
   "outputs": [
    {
     "data": {
      "text/html": [
       "<div>\n",
       "<style scoped>\n",
       "    .dataframe tbody tr th:only-of-type {\n",
       "        vertical-align: middle;\n",
       "    }\n",
       "\n",
       "    .dataframe tbody tr th {\n",
       "        vertical-align: top;\n",
       "    }\n",
       "\n",
       "    .dataframe thead th {\n",
       "        text-align: right;\n",
       "    }\n",
       "</style>\n",
       "<table border=\"1\" class=\"dataframe\">\n",
       "  <thead>\n",
       "    <tr style=\"text-align: right;\">\n",
       "      <th></th>\n",
       "      <th>date</th>\n",
       "      <th>type</th>\n",
       "      <th>locale</th>\n",
       "      <th>locale_name</th>\n",
       "      <th>description</th>\n",
       "      <th>transferred</th>\n",
       "    </tr>\n",
       "  </thead>\n",
       "  <tbody>\n",
       "    <tr>\n",
       "      <th>0</th>\n",
       "      <td>2012-03-02</td>\n",
       "      <td>Holiday</td>\n",
       "      <td>Local</td>\n",
       "      <td>Manta</td>\n",
       "      <td>Fundacion de Manta</td>\n",
       "      <td>False</td>\n",
       "    </tr>\n",
       "    <tr>\n",
       "      <th>1</th>\n",
       "      <td>2012-04-01</td>\n",
       "      <td>Holiday</td>\n",
       "      <td>Regional</td>\n",
       "      <td>Cotopaxi</td>\n",
       "      <td>Provincializacion de Cotopaxi</td>\n",
       "      <td>False</td>\n",
       "    </tr>\n",
       "    <tr>\n",
       "      <th>2</th>\n",
       "      <td>2012-04-12</td>\n",
       "      <td>Holiday</td>\n",
       "      <td>Local</td>\n",
       "      <td>Cuenca</td>\n",
       "      <td>Fundacion de Cuenca</td>\n",
       "      <td>False</td>\n",
       "    </tr>\n",
       "    <tr>\n",
       "      <th>3</th>\n",
       "      <td>2012-04-14</td>\n",
       "      <td>Holiday</td>\n",
       "      <td>Local</td>\n",
       "      <td>Libertad</td>\n",
       "      <td>Cantonizacion de Libertad</td>\n",
       "      <td>False</td>\n",
       "    </tr>\n",
       "    <tr>\n",
       "      <th>4</th>\n",
       "      <td>2012-04-21</td>\n",
       "      <td>Holiday</td>\n",
       "      <td>Local</td>\n",
       "      <td>Riobamba</td>\n",
       "      <td>Cantonizacion de Riobamba</td>\n",
       "      <td>False</td>\n",
       "    </tr>\n",
       "  </tbody>\n",
       "</table>\n",
       "</div>"
      ],
      "text/plain": [
       "        date     type    locale locale_name                    description  \\\n",
       "0 2012-03-02  Holiday     Local       Manta             Fundacion de Manta   \n",
       "1 2012-04-01  Holiday  Regional    Cotopaxi  Provincializacion de Cotopaxi   \n",
       "2 2012-04-12  Holiday     Local      Cuenca            Fundacion de Cuenca   \n",
       "3 2012-04-14  Holiday     Local    Libertad      Cantonizacion de Libertad   \n",
       "4 2012-04-21  Holiday     Local    Riobamba      Cantonizacion de Riobamba   \n",
       "\n",
       "   transferred  \n",
       "0        False  \n",
       "1        False  \n",
       "2        False  \n",
       "3        False  \n",
       "4        False  "
      ]
     },
     "execution_count": 4,
     "metadata": {},
     "output_type": "execute_result"
    }
   ],
   "source": [
    "holiday.head()"
   ]
  },
  {
   "cell_type": "code",
   "execution_count": 5,
   "id": "e86daaed",
   "metadata": {
    "execution": {
     "iopub.execute_input": "2025-09-24T09:25:58.925652Z",
     "iopub.status.busy": "2025-09-24T09:25:58.924843Z",
     "iopub.status.idle": "2025-09-24T09:26:02.193119Z",
     "shell.execute_reply": "2025-09-24T09:26:02.192310Z"
    },
    "papermill": {
     "duration": 3.27565,
     "end_time": "2025-09-24T09:26:02.194712",
     "exception": false,
     "start_time": "2025-09-24T09:25:58.919062",
     "status": "completed"
    },
    "tags": []
   },
   "outputs": [],
   "source": [
    "test = pd.read_csv(\"/kaggle/input/store-sales-time-series-forecasting/test.csv\", parse_dates=[\"date\"])\n",
    "train = pd.read_csv(\"/kaggle/input/store-sales-time-series-forecasting/train.csv\", parse_dates=[\"date\"])"
   ]
  },
  {
   "cell_type": "code",
   "execution_count": 6,
   "id": "f301746d",
   "metadata": {
    "execution": {
     "iopub.execute_input": "2025-09-24T09:26:02.207000Z",
     "iopub.status.busy": "2025-09-24T09:26:02.206613Z",
     "iopub.status.idle": "2025-09-24T09:26:02.216221Z",
     "shell.execute_reply": "2025-09-24T09:26:02.215207Z"
    },
    "papermill": {
     "duration": 0.017702,
     "end_time": "2025-09-24T09:26:02.217780",
     "exception": false,
     "start_time": "2025-09-24T09:26:02.200078",
     "status": "completed"
    },
    "tags": []
   },
   "outputs": [
    {
     "data": {
      "text/html": [
       "<div>\n",
       "<style scoped>\n",
       "    .dataframe tbody tr th:only-of-type {\n",
       "        vertical-align: middle;\n",
       "    }\n",
       "\n",
       "    .dataframe tbody tr th {\n",
       "        vertical-align: top;\n",
       "    }\n",
       "\n",
       "    .dataframe thead th {\n",
       "        text-align: right;\n",
       "    }\n",
       "</style>\n",
       "<table border=\"1\" class=\"dataframe\">\n",
       "  <thead>\n",
       "    <tr style=\"text-align: right;\">\n",
       "      <th></th>\n",
       "      <th>id</th>\n",
       "      <th>date</th>\n",
       "      <th>store_nbr</th>\n",
       "      <th>family</th>\n",
       "      <th>onpromotion</th>\n",
       "    </tr>\n",
       "  </thead>\n",
       "  <tbody>\n",
       "    <tr>\n",
       "      <th>0</th>\n",
       "      <td>3000888</td>\n",
       "      <td>2017-08-16</td>\n",
       "      <td>1</td>\n",
       "      <td>AUTOMOTIVE</td>\n",
       "      <td>0</td>\n",
       "    </tr>\n",
       "    <tr>\n",
       "      <th>1</th>\n",
       "      <td>3000889</td>\n",
       "      <td>2017-08-16</td>\n",
       "      <td>1</td>\n",
       "      <td>BABY CARE</td>\n",
       "      <td>0</td>\n",
       "    </tr>\n",
       "    <tr>\n",
       "      <th>2</th>\n",
       "      <td>3000890</td>\n",
       "      <td>2017-08-16</td>\n",
       "      <td>1</td>\n",
       "      <td>BEAUTY</td>\n",
       "      <td>2</td>\n",
       "    </tr>\n",
       "    <tr>\n",
       "      <th>3</th>\n",
       "      <td>3000891</td>\n",
       "      <td>2017-08-16</td>\n",
       "      <td>1</td>\n",
       "      <td>BEVERAGES</td>\n",
       "      <td>20</td>\n",
       "    </tr>\n",
       "    <tr>\n",
       "      <th>4</th>\n",
       "      <td>3000892</td>\n",
       "      <td>2017-08-16</td>\n",
       "      <td>1</td>\n",
       "      <td>BOOKS</td>\n",
       "      <td>0</td>\n",
       "    </tr>\n",
       "  </tbody>\n",
       "</table>\n",
       "</div>"
      ],
      "text/plain": [
       "        id       date  store_nbr      family  onpromotion\n",
       "0  3000888 2017-08-16          1  AUTOMOTIVE            0\n",
       "1  3000889 2017-08-16          1   BABY CARE            0\n",
       "2  3000890 2017-08-16          1      BEAUTY            2\n",
       "3  3000891 2017-08-16          1   BEVERAGES           20\n",
       "4  3000892 2017-08-16          1       BOOKS            0"
      ]
     },
     "execution_count": 6,
     "metadata": {},
     "output_type": "execute_result"
    }
   ],
   "source": [
    "test.head()"
   ]
  },
  {
   "cell_type": "code",
   "execution_count": 7,
   "id": "8999e365",
   "metadata": {
    "execution": {
     "iopub.execute_input": "2025-09-24T09:26:02.229834Z",
     "iopub.status.busy": "2025-09-24T09:26:02.229485Z",
     "iopub.status.idle": "2025-09-24T09:26:02.958531Z",
     "shell.execute_reply": "2025-09-24T09:26:02.957491Z"
    },
    "papermill": {
     "duration": 0.737032,
     "end_time": "2025-09-24T09:26:02.960033",
     "exception": false,
     "start_time": "2025-09-24T09:26:02.223001",
     "status": "completed"
    },
    "tags": []
   },
   "outputs": [
    {
     "data": {
      "text/html": [
       "<div>\n",
       "<style scoped>\n",
       "    .dataframe tbody tr th:only-of-type {\n",
       "        vertical-align: middle;\n",
       "    }\n",
       "\n",
       "    .dataframe tbody tr th {\n",
       "        vertical-align: top;\n",
       "    }\n",
       "\n",
       "    .dataframe thead th {\n",
       "        text-align: right;\n",
       "    }\n",
       "</style>\n",
       "<table border=\"1\" class=\"dataframe\">\n",
       "  <thead>\n",
       "    <tr style=\"text-align: right;\">\n",
       "      <th></th>\n",
       "      <th>id</th>\n",
       "      <th>date</th>\n",
       "      <th>store_nbr</th>\n",
       "      <th>family</th>\n",
       "      <th>sales</th>\n",
       "      <th>onpromotion</th>\n",
       "    </tr>\n",
       "  </thead>\n",
       "  <tbody>\n",
       "    <tr>\n",
       "      <th>2163723</th>\n",
       "      <td>2163723</td>\n",
       "      <td>2016-05-02</td>\n",
       "      <td>2</td>\n",
       "      <td>GROCERY I</td>\n",
       "      <td>124717.000</td>\n",
       "      <td>59</td>\n",
       "    </tr>\n",
       "    <tr>\n",
       "      <th>2445984</th>\n",
       "      <td>2445984</td>\n",
       "      <td>2016-10-07</td>\n",
       "      <td>39</td>\n",
       "      <td>MEATS</td>\n",
       "      <td>89576.360</td>\n",
       "      <td>0</td>\n",
       "    </tr>\n",
       "    <tr>\n",
       "      <th>2144154</th>\n",
       "      <td>2144154</td>\n",
       "      <td>2016-04-21</td>\n",
       "      <td>20</td>\n",
       "      <td>GROCERY I</td>\n",
       "      <td>87438.516</td>\n",
       "      <td>53</td>\n",
       "    </tr>\n",
       "    <tr>\n",
       "      <th>2139699</th>\n",
       "      <td>2139699</td>\n",
       "      <td>2016-04-18</td>\n",
       "      <td>45</td>\n",
       "      <td>GROCERY I</td>\n",
       "      <td>76090.000</td>\n",
       "      <td>38</td>\n",
       "    </tr>\n",
       "    <tr>\n",
       "      <th>2153031</th>\n",
       "      <td>2153031</td>\n",
       "      <td>2016-04-26</td>\n",
       "      <td>2</td>\n",
       "      <td>GROCERY I</td>\n",
       "      <td>63434.000</td>\n",
       "      <td>30</td>\n",
       "    </tr>\n",
       "    <tr>\n",
       "      <th>...</th>\n",
       "      <td>...</td>\n",
       "      <td>...</td>\n",
       "      <td>...</td>\n",
       "      <td>...</td>\n",
       "      <td>...</td>\n",
       "      <td>...</td>\n",
       "    </tr>\n",
       "    <tr>\n",
       "      <th>1044576</th>\n",
       "      <td>1044576</td>\n",
       "      <td>2014-08-11</td>\n",
       "      <td>18</td>\n",
       "      <td>PLAYERS AND ELECTRONICS</td>\n",
       "      <td>0.000</td>\n",
       "      <td>0</td>\n",
       "    </tr>\n",
       "    <tr>\n",
       "      <th>1044575</th>\n",
       "      <td>1044575</td>\n",
       "      <td>2014-08-11</td>\n",
       "      <td>18</td>\n",
       "      <td>PET SUPPLIES</td>\n",
       "      <td>0.000</td>\n",
       "      <td>0</td>\n",
       "    </tr>\n",
       "    <tr>\n",
       "      <th>2309044</th>\n",
       "      <td>2309044</td>\n",
       "      <td>2016-07-22</td>\n",
       "      <td>47</td>\n",
       "      <td>BABY CARE</td>\n",
       "      <td>0.000</td>\n",
       "      <td>0</td>\n",
       "    </tr>\n",
       "    <tr>\n",
       "      <th>1044572</th>\n",
       "      <td>1044572</td>\n",
       "      <td>2014-08-11</td>\n",
       "      <td>18</td>\n",
       "      <td>MAGAZINES</td>\n",
       "      <td>0.000</td>\n",
       "      <td>0</td>\n",
       "    </tr>\n",
       "    <tr>\n",
       "      <th>0</th>\n",
       "      <td>0</td>\n",
       "      <td>2013-01-01</td>\n",
       "      <td>1</td>\n",
       "      <td>AUTOMOTIVE</td>\n",
       "      <td>0.000</td>\n",
       "      <td>0</td>\n",
       "    </tr>\n",
       "  </tbody>\n",
       "</table>\n",
       "<p>3000888 rows × 6 columns</p>\n",
       "</div>"
      ],
      "text/plain": [
       "              id       date  store_nbr                   family       sales  \\\n",
       "2163723  2163723 2016-05-02          2                GROCERY I  124717.000   \n",
       "2445984  2445984 2016-10-07         39                    MEATS   89576.360   \n",
       "2144154  2144154 2016-04-21         20                GROCERY I   87438.516   \n",
       "2139699  2139699 2016-04-18         45                GROCERY I   76090.000   \n",
       "2153031  2153031 2016-04-26          2                GROCERY I   63434.000   \n",
       "...          ...        ...        ...                      ...         ...   \n",
       "1044576  1044576 2014-08-11         18  PLAYERS AND ELECTRONICS       0.000   \n",
       "1044575  1044575 2014-08-11         18             PET SUPPLIES       0.000   \n",
       "2309044  2309044 2016-07-22         47                BABY CARE       0.000   \n",
       "1044572  1044572 2014-08-11         18                MAGAZINES       0.000   \n",
       "0              0 2013-01-01          1               AUTOMOTIVE       0.000   \n",
       "\n",
       "         onpromotion  \n",
       "2163723           59  \n",
       "2445984            0  \n",
       "2144154           53  \n",
       "2139699           38  \n",
       "2153031           30  \n",
       "...              ...  \n",
       "1044576            0  \n",
       "1044575            0  \n",
       "2309044            0  \n",
       "1044572            0  \n",
       "0                  0  \n",
       "\n",
       "[3000888 rows x 6 columns]"
      ]
     },
     "execution_count": 7,
     "metadata": {},
     "output_type": "execute_result"
    }
   ],
   "source": [
    "train.sort_values(by='sales', ascending=False)"
   ]
  },
  {
   "cell_type": "code",
   "execution_count": 8,
   "id": "d3f21f97",
   "metadata": {
    "execution": {
     "iopub.execute_input": "2025-09-24T09:26:02.972292Z",
     "iopub.status.busy": "2025-09-24T09:26:02.971944Z",
     "iopub.status.idle": "2025-09-24T09:26:02.990669Z",
     "shell.execute_reply": "2025-09-24T09:26:02.989428Z"
    },
    "papermill": {
     "duration": 0.026632,
     "end_time": "2025-09-24T09:26:02.992230",
     "exception": false,
     "start_time": "2025-09-24T09:26:02.965598",
     "status": "completed"
    },
    "tags": []
   },
   "outputs": [
    {
     "name": "stdout",
     "output_type": "stream",
     "text": [
      "(3000888, 6) (28512, 5)\n",
      "<class 'pandas.core.frame.DataFrame'>\n",
      "RangeIndex: 3000888 entries, 0 to 3000887\n",
      "Data columns (total 6 columns):\n",
      " #   Column       Dtype         \n",
      "---  ------       -----         \n",
      " 0   id           int64         \n",
      " 1   date         datetime64[ns]\n",
      " 2   store_nbr    int64         \n",
      " 3   family       object        \n",
      " 4   sales        float64       \n",
      " 5   onpromotion  int64         \n",
      "dtypes: datetime64[ns](1), float64(1), int64(3), object(1)\n",
      "memory usage: 137.4+ MB\n",
      "None\n"
     ]
    }
   ],
   "source": [
    "# overview\n",
    "\n",
    "print(train.shape, test.shape) # nb of rows & columns\n",
    "print(train.info())"
   ]
  },
  {
   "cell_type": "markdown",
   "id": "17993040",
   "metadata": {
    "papermill": {
     "duration": 0.005058,
     "end_time": "2025-09-24T09:26:03.002986",
     "exception": false,
     "start_time": "2025-09-24T09:26:02.997928",
     "status": "completed"
    },
    "tags": []
   },
   "source": [
    "## Preprocessing\n",
    "* create a unique identifier for store-family combinations\n",
    "* filter a national holiday\n",
    "* store metadata encode"
   ]
  },
  {
   "cell_type": "code",
   "execution_count": 9,
   "id": "38811ac5",
   "metadata": {
    "execution": {
     "iopub.execute_input": "2025-09-24T09:26:03.014941Z",
     "iopub.status.busy": "2025-09-24T09:26:03.014540Z",
     "iopub.status.idle": "2025-09-24T09:26:04.593659Z",
     "shell.execute_reply": "2025-09-24T09:26:04.592435Z"
    },
    "papermill": {
     "duration": 1.587857,
     "end_time": "2025-09-24T09:26:04.596060",
     "exception": false,
     "start_time": "2025-09-24T09:26:03.008203",
     "status": "completed"
    },
    "tags": []
   },
   "outputs": [],
   "source": [
    "train[\"unique_id\"] = train[\"store_nbr\"].astype(str) + \"_\" + train[\"family\"]\n",
    "test[\"unique_id\"] = test[\"store_nbr\"].astype(str) + \"_\" + test[\"family\"]"
   ]
  },
  {
   "cell_type": "code",
   "execution_count": 10,
   "id": "3e420a2d",
   "metadata": {
    "execution": {
     "iopub.execute_input": "2025-09-24T09:26:04.613436Z",
     "iopub.status.busy": "2025-09-24T09:26:04.612836Z",
     "iopub.status.idle": "2025-09-24T09:26:04.623572Z",
     "shell.execute_reply": "2025-09-24T09:26:04.622666Z"
    },
    "papermill": {
     "duration": 0.018972,
     "end_time": "2025-09-24T09:26:04.625133",
     "exception": false,
     "start_time": "2025-09-24T09:26:04.606161",
     "status": "completed"
    },
    "tags": []
   },
   "outputs": [],
   "source": [
    "# Holidays: national only\n",
    "holiday = holiday[holiday[\"locale\"]==\"National\"].copy()\n",
    "holiday[\"holiday_flag\"] = 1\n",
    "holiday = holiday[[\"date\",\"holiday_flag\"]].drop_duplicates()"
   ]
  },
  {
   "cell_type": "code",
   "execution_count": 11,
   "id": "ee8726fd",
   "metadata": {
    "execution": {
     "iopub.execute_input": "2025-09-24T09:26:04.637245Z",
     "iopub.status.busy": "2025-09-24T09:26:04.636912Z",
     "iopub.status.idle": "2025-09-24T09:26:04.659031Z",
     "shell.execute_reply": "2025-09-24T09:26:04.658079Z"
    },
    "papermill": {
     "duration": 0.030046,
     "end_time": "2025-09-24T09:26:04.660713",
     "exception": false,
     "start_time": "2025-09-24T09:26:04.630667",
     "status": "completed"
    },
    "tags": []
   },
   "outputs": [],
   "source": [
    "# Oil: forward fill\n",
    "oil = oil.set_index(\"date\").asfreq(\"D\").ffill().reset_index().rename(columns={\"dcoilwtico\":\"oil_price\"})"
   ]
  },
  {
   "cell_type": "code",
   "execution_count": 12,
   "id": "34809b2c",
   "metadata": {
    "execution": {
     "iopub.execute_input": "2025-09-24T09:26:04.673276Z",
     "iopub.status.busy": "2025-09-24T09:26:04.672946Z",
     "iopub.status.idle": "2025-09-24T09:26:05.566024Z",
     "shell.execute_reply": "2025-09-24T09:26:05.565208Z"
    },
    "papermill": {
     "duration": 0.901343,
     "end_time": "2025-09-24T09:26:05.567598",
     "exception": false,
     "start_time": "2025-09-24T09:26:04.666255",
     "status": "completed"
    },
    "tags": []
   },
   "outputs": [],
   "source": [
    "def merge_exog(df):\n",
    "    df = df.merge(oil, on=\"date\", how=\"left\")\n",
    "    df = df.merge(holiday, on=\"date\", how=\"left\")\n",
    "    df[\"holiday_flag\"] = df[\"holiday_flag\"].fillna(0)\n",
    "    return df\n",
    "\n",
    "train = merge_exog(train)\n",
    "test = merge_exog(test)"
   ]
  },
  {
   "cell_type": "code",
   "execution_count": 13,
   "id": "728b597f",
   "metadata": {
    "execution": {
     "iopub.execute_input": "2025-09-24T09:26:05.579723Z",
     "iopub.status.busy": "2025-09-24T09:26:05.579367Z",
     "iopub.status.idle": "2025-09-24T09:26:05.585089Z",
     "shell.execute_reply": "2025-09-24T09:26:05.584354Z"
    },
    "papermill": {
     "duration": 0.013364,
     "end_time": "2025-09-24T09:26:05.586463",
     "exception": false,
     "start_time": "2025-09-24T09:26:05.573099",
     "status": "completed"
    },
    "tags": []
   },
   "outputs": [],
   "source": [
    "# store metadata encode\n",
    "stores = stores.rename(columns={\"cluster\":\"store_cluster\"})\n",
    "stores[\"store_nbr\"] = stores[\"store_nbr\"].astype(int)"
   ]
  },
  {
   "cell_type": "markdown",
   "id": "fad38bff",
   "metadata": {
    "papermill": {
     "duration": 0.005035,
     "end_time": "2025-09-24T09:26:05.597310",
     "exception": false,
     "start_time": "2025-09-24T09:26:05.592275",
     "status": "completed"
    },
    "tags": []
   },
   "source": [
    "## Prepare data\n",
    "* merge test and train data\n",
    "* sort by unique_id and dates\n",
    "* label categorical features"
   ]
  },
  {
   "cell_type": "code",
   "execution_count": 14,
   "id": "2116f65d",
   "metadata": {
    "execution": {
     "iopub.execute_input": "2025-09-24T09:26:05.609261Z",
     "iopub.status.busy": "2025-09-24T09:26:05.608940Z",
     "iopub.status.idle": "2025-09-24T09:26:13.762057Z",
     "shell.execute_reply": "2025-09-24T09:26:13.761019Z"
    },
    "papermill": {
     "duration": 8.161155,
     "end_time": "2025-09-24T09:26:13.763831",
     "exception": false,
     "start_time": "2025-09-24T09:26:05.602676",
     "status": "completed"
    },
    "tags": []
   },
   "outputs": [],
   "source": [
    "test[\"sales\"] = np.nan\n",
    "df_all = pd.concat([train, test], sort=False).reset_index(drop=True)\n",
    "df_all = df_all.sort_values([\"unique_id\",\"date\"]).reset_index(drop=True)\n",
    "\n",
    "# merge store metadata\n",
    "df_all = df_all.merge(stores, on=\"store_nbr\", how=\"left\")\n",
    "\n",
    "# Basic date features\n",
    "df_all[\"dow\"] = df_all[\"date\"].dt.dayofweek\n",
    "df_all[\"day\"] = df_all[\"date\"].dt.day\n",
    "df_all[\"month\"] = df_all[\"date\"].dt.month\n",
    "df_all[\"year\"] = df_all[\"date\"].dt.year\n",
    "df_all[\"weekofyear\"] = df_all[\"date\"].dt.isocalendar().week.astype(int)\n",
    "\n",
    "# Label encode categorical columns\n",
    "for c in [\"family\",\"city\",\"state\",\"type\",\"store_cluster\"]:\n",
    "    df_all[c] = df_all[c].astype(str)\n",
    "    le = LabelEncoder()\n",
    "    df_all[c] = le.fit_transform(df_all[c].fillna(\"NA\"))"
   ]
  },
  {
   "cell_type": "markdown",
   "id": "eac31389",
   "metadata": {
    "papermill": {
     "duration": 0.005165,
     "end_time": "2025-09-24T09:26:13.774720",
     "exception": false,
     "start_time": "2025-09-24T09:26:13.769555",
     "status": "completed"
    },
    "tags": []
   },
   "source": [
    "## Create lags and rolling window\n",
    "* create lag features for short and long-term dependencies"
   ]
  },
  {
   "cell_type": "code",
   "execution_count": 15,
   "id": "e45e0a98",
   "metadata": {
    "execution": {
     "iopub.execute_input": "2025-09-24T09:26:13.786618Z",
     "iopub.status.busy": "2025-09-24T09:26:13.786316Z",
     "iopub.status.idle": "2025-09-24T09:26:28.712082Z",
     "shell.execute_reply": "2025-09-24T09:26:28.711261Z"
    },
    "papermill": {
     "duration": 14.933541,
     "end_time": "2025-09-24T09:26:28.713728",
     "exception": false,
     "start_time": "2025-09-24T09:26:13.780187",
     "status": "completed"
    },
    "tags": []
   },
   "outputs": [],
   "source": [
    "LAGS = [1,2,3,7,14,21,28]\n",
    "ROLL_WINDOWS = [3,7,14,28]\n",
    "\n",
    "for lag in LAGS:\n",
    "    df_all[f\"lag_{lag}\"] = df_all.groupby(\"unique_id\")[\"sales\"].shift(lag)\n",
    "\n",
    "for w in ROLL_WINDOWS:\n",
    "    df_all[f\"rmean_{w}\"] = df_all.groupby(\"unique_id\")[\"sales\"].shift(1).rolling(window=w, min_periods=1).mean().reset_index(level=0, drop=True)\n",
    "    df_all[f\"rstd_{w}\"] = df_all.groupby(\"unique_id\")[\"sales\"].shift(1).rolling(window=w, min_periods=1).std().reset_index(level=0, drop=True)\n",
    "    df_all[f\"ewm_{w}\"] = df_all.groupby(\"unique_id\")[\"sales\"].shift(1).transform(lambda x: x.ewm(span=w, adjust=False).mean())"
   ]
  },
  {
   "cell_type": "code",
   "execution_count": 16,
   "id": "00ce1221",
   "metadata": {
    "execution": {
     "iopub.execute_input": "2025-09-24T09:26:28.726388Z",
     "iopub.status.busy": "2025-09-24T09:26:28.725562Z",
     "iopub.status.idle": "2025-09-24T09:26:33.300365Z",
     "shell.execute_reply": "2025-09-24T09:26:33.299448Z"
    },
    "papermill": {
     "duration": 4.582857,
     "end_time": "2025-09-24T09:26:33.302085",
     "exception": false,
     "start_time": "2025-09-24T09:26:28.719228",
     "status": "completed"
    },
    "tags": []
   },
   "outputs": [],
   "source": [
    "df_all[\"promo_lag_1\"] = df_all.groupby(\"unique_id\")[\"onpromotion\"].shift(1)\n",
    "df_all[\"promo_roll_7\"] = df_all.groupby(\"unique_id\")[\"onpromotion\"].shift(1).rolling(window=7, min_periods=1).mean().reset_index(level=0, drop=True)\n",
    "\n",
    "df_all[\"days_to_holiday\"] = df_all.groupby(\"unique_id\")[\"holiday_flag\"].shift(1).fillna(0)\n",
    "df_all[\"days_to_holiday_7\"] = df_all.groupby(\"unique_id\")[\"holiday_flag\"].shift(1).rolling(7, min_periods=1).sum().reset_index(level=0, drop=True)\n",
    "\n",
    "group_median = df_all.groupby(\"unique_id\")[\"sales\"].transform(\"median\")\n",
    "lag_cols = [c for c in df_all.columns if \"lag_\" in c or \"rmean_\" in c or \"rstd_\" in c or \"ewm_\" in c or \"promo_\" in c or \"days_to_holiday\" in c]\n",
    "for col in lag_cols:\n",
    "    df_all[col] = df_all[col].fillna(group_median).fillna(0.0)\n",
    "\n",
    "df_all[\"oil_price\"] = df_all[\"oil_price\"].fillna(df_all[\"oil_price\"].median())"
   ]
  },
  {
   "cell_type": "markdown",
   "id": "0892d88a",
   "metadata": {
    "papermill": {
     "duration": 0.005251,
     "end_time": "2025-09-24T09:26:33.312976",
     "exception": false,
     "start_time": "2025-09-24T09:26:33.307725",
     "status": "completed"
    },
    "tags": []
   },
   "source": [
    "## Splitting data\n"
   ]
  },
  {
   "cell_type": "code",
   "execution_count": 17,
   "id": "b81fdb5f",
   "metadata": {
    "execution": {
     "iopub.execute_input": "2025-09-24T09:26:33.325017Z",
     "iopub.status.busy": "2025-09-24T09:26:33.324595Z",
     "iopub.status.idle": "2025-09-24T09:26:37.307350Z",
     "shell.execute_reply": "2025-09-24T09:26:37.306498Z"
    },
    "papermill": {
     "duration": 3.990807,
     "end_time": "2025-09-24T09:26:37.309204",
     "exception": false,
     "start_time": "2025-09-24T09:26:33.318397",
     "status": "completed"
    },
    "tags": []
   },
   "outputs": [],
   "source": [
    "h = test[\"date\"].nunique()\n",
    "train_feat = df_all[df_all[\"sales\"].notna()].copy()\n",
    "test_feat = df_all[df_all[\"sales\"].isna()].copy()\n",
    "\n",
    "features = [f for f in df_all.columns if f not in [\"id\",\"date\",\"sales\",\"unique_id\",\"store_nbr\"]]\n",
    "\n",
    "X_train = train_feat[train_feat[\"date\"] < train_feat[\"date\"].max() - pd.Timedelta(days=h-1)][features]\n",
    "y_train = train_feat[train_feat[\"date\"] < train_feat[\"date\"].max() - pd.Timedelta(days=h-1)][\"sales\"]\n",
    "\n",
    "X_val = train_feat[train_feat[\"date\"] >= train_feat[\"date\"].max() - pd.Timedelta(days=h-1)][features]\n",
    "y_val = train_feat[train_feat[\"date\"] >= train_feat[\"date\"].max() - pd.Timedelta(days=h-1)][\"sales\"]\n",
    "\n",
    "cat_features = [c for c in [\"family\",\"city\",\"state\",\"type\",\"store_cluster\",\"dow\",\"month\",\"year\",\"weekofyear\"] if c in features]\n",
    "\n",
    "lgb_train = lgb.Dataset(X_train, label=y_train, categorical_feature=cat_features, free_raw_data=False)\n",
    "lgb_val = lgb.Dataset(X_val, label=y_val, categorical_feature=cat_features, reference=lgb_train, free_raw_data=False)\n",
    "\n",
    "params = {\n",
    "    \"objective\": \"rmse\",\n",
    "    \"metric\": \"rmse\",\n",
    "    \"learning_rate\": 0.036,\n",
    "    \"num_leaves\": 196,\n",
    "    \"min_data_in_leaf\": 494,\n",
    "    \"feature_fraction\": 0.605,\n",
    "    \"bagging_freq\": 1,\n",
    "    \"bagging_fraction\": 0.606,\n",
    "    \"seed\": 2025,\n",
    "    \"verbosity\": -1,\n",
    "    \"n_jobs\": -1\n",
    "}"
   ]
  },
  {
   "cell_type": "markdown",
   "id": "33f107c3",
   "metadata": {
    "papermill": {
     "duration": 0.005585,
     "end_time": "2025-09-24T09:26:37.320436",
     "exception": false,
     "start_time": "2025-09-24T09:26:37.314851",
     "status": "completed"
    },
    "tags": []
   },
   "source": [
    "## Train data with lightGBM\n",
    "train with early stopping"
   ]
  },
  {
   "cell_type": "code",
   "execution_count": 18,
   "id": "01c3d386",
   "metadata": {
    "execution": {
     "iopub.execute_input": "2025-09-24T09:26:37.332568Z",
     "iopub.status.busy": "2025-09-24T09:26:37.332269Z",
     "iopub.status.idle": "2025-09-24T09:28:37.235219Z",
     "shell.execute_reply": "2025-09-24T09:28:37.233947Z"
    },
    "papermill": {
     "duration": 119.911015,
     "end_time": "2025-09-24T09:28:37.236998",
     "exception": false,
     "start_time": "2025-09-24T09:26:37.325983",
     "status": "completed"
    },
    "tags": []
   },
   "outputs": [
    {
     "name": "stdout",
     "output_type": "stream",
     "text": [
      "Training until validation scores don't improve for 50 rounds\n",
      "[50]\ttrain's rmse: 318.896\tvalid's rmse: 276.284\n",
      "[100]\ttrain's rmse: 247.919\tvalid's rmse: 200.864\n",
      "[150]\ttrain's rmse: 233.139\tvalid's rmse: 189.202\n",
      "[200]\ttrain's rmse: 226.45\tvalid's rmse: 186.022\n",
      "[250]\ttrain's rmse: 221.904\tvalid's rmse: 184.782\n",
      "[300]\ttrain's rmse: 218.349\tvalid's rmse: 184.282\n",
      "[350]\ttrain's rmse: 215.191\tvalid's rmse: 183.588\n",
      "[400]\ttrain's rmse: 212.487\tvalid's rmse: 183.196\n",
      "Early stopping, best iteration is:\n",
      "[387]\ttrain's rmse: 213.202\tvalid's rmse: 183.137\n"
     ]
    }
   ],
   "source": [
    "model = lgb.train(\n",
    "    params,\n",
    "    lgb_train,\n",
    "    num_boost_round=2000,\n",
    "    valid_sets=[lgb_train, lgb_val],\n",
    "    valid_names=[\"train\",\"valid\"],\n",
    "    callbacks=[\n",
    "        lgb.early_stopping(stopping_rounds=50),\n",
    "        lgb.log_evaluation(period=50)\n",
    "    ]\n",
    ")"
   ]
  },
  {
   "cell_type": "markdown",
   "id": "7fd8ad59",
   "metadata": {
    "papermill": {
     "duration": 0.005601,
     "end_time": "2025-09-24T09:28:37.249000",
     "exception": false,
     "start_time": "2025-09-24T09:28:37.243399",
     "status": "completed"
    },
    "tags": []
   },
   "source": [
    "## Validation RMSLE"
   ]
  },
  {
   "cell_type": "code",
   "execution_count": 19,
   "id": "e10329f2",
   "metadata": {
    "execution": {
     "iopub.execute_input": "2025-09-24T09:28:37.262370Z",
     "iopub.status.busy": "2025-09-24T09:28:37.261543Z",
     "iopub.status.idle": "2025-09-24T09:28:38.125798Z",
     "shell.execute_reply": "2025-09-24T09:28:38.124674Z"
    },
    "papermill": {
     "duration": 0.872493,
     "end_time": "2025-09-24T09:28:38.127340",
     "exception": false,
     "start_time": "2025-09-24T09:28:37.254847",
     "status": "completed"
    },
    "tags": []
   },
   "outputs": [
    {
     "name": "stdout",
     "output_type": "stream",
     "text": [
      "Validation RMSLE: 0.427160\n"
     ]
    }
   ],
   "source": [
    "val_pred = model.predict(X_val, num_iteration=model.best_iteration)\n",
    "val_pred = np.clip(val_pred, 0, None)\n",
    "rmsle = np.sqrt(np.mean((np.log1p(val_pred) - np.log1p(y_val))**2))\n",
    "print(f\"Validation RMSLE: {rmsle:.6f}\")"
   ]
  },
  {
   "cell_type": "markdown",
   "id": "134be1ef",
   "metadata": {
    "papermill": {
     "duration": 0.006676,
     "end_time": "2025-09-24T09:28:38.141664",
     "exception": false,
     "start_time": "2025-09-24T09:28:38.134988",
     "status": "completed"
    },
    "tags": []
   },
   "source": [
    "## Feature Importance"
   ]
  },
  {
   "cell_type": "code",
   "execution_count": 20,
   "id": "7825aebf",
   "metadata": {
    "execution": {
     "iopub.execute_input": "2025-09-24T09:28:38.154947Z",
     "iopub.status.busy": "2025-09-24T09:28:38.154097Z",
     "iopub.status.idle": "2025-09-24T09:28:38.552733Z",
     "shell.execute_reply": "2025-09-24T09:28:38.551735Z"
    },
    "papermill": {
     "duration": 0.406896,
     "end_time": "2025-09-24T09:28:38.554249",
     "exception": false,
     "start_time": "2025-09-24T09:28:38.147353",
     "status": "completed"
    },
    "tags": []
   },
   "outputs": [
    {
     "data": {
      "image/png": "[encoded data removed]",
      "text/plain": [
       "<Figure size 800x600 with 1 Axes>"
      ]
     },
     "metadata": {},
     "output_type": "display_data"
    }
   ],
   "source": [
    "imp = pd.DataFrame({\"feature\": model.feature_name(), \"gain\": model.feature_importance(\"gain\")})\n",
    "imp = imp.sort_values(\"gain\", ascending=False).reset_index(drop=True)\n",
    "plt.figure(figsize=(8,6))\n",
    "plt.barh(imp[\"feature\"].head(20)[::-1], imp[\"gain\"].head(20)[::-1])\n",
    "plt.title(\"Top 20 feature importances (gain)\")\n",
    "plt.tight_layout()\n",
    "plt.show()"
   ]
  },
  {
   "cell_type": "markdown",
   "id": "b945bd18",
   "metadata": {
    "papermill": {
     "duration": 0.006202,
     "end_time": "2025-09-24T09:28:38.567436",
     "exception": false,
     "start_time": "2025-09-24T09:28:38.561234",
     "status": "completed"
    },
    "tags": []
   },
   "source": [
    "## Predict on Test Set and Save Submission\n",
    "* predict sales on test set\n",
    "* fill missing prediction\n",
    "* save submission to CSV"
   ]
  },
  {
   "cell_type": "code",
   "execution_count": 21,
   "id": "7ff755e3",
   "metadata": {
    "execution": {
     "iopub.execute_input": "2025-09-24T09:28:38.581600Z",
     "iopub.status.busy": "2025-09-24T09:28:38.581289Z",
     "iopub.status.idle": "2025-09-24T09:28:40.056298Z",
     "shell.execute_reply": "2025-09-24T09:28:40.055295Z"
    },
    "papermill": {
     "duration": 1.483843,
     "end_time": "2025-09-24T09:28:40.057763",
     "exception": false,
     "start_time": "2025-09-24T09:28:38.573920",
     "status": "completed"
    },
    "tags": []
   },
   "outputs": [
    {
     "name": "stdout",
     "output_type": "stream",
     "text": [
      "Saved submission.csv with 28512 rows\n"
     ]
    }
   ],
   "source": [
    "X_test = test_feat[features].copy()\n",
    "preds_test = model.predict(X_test, num_iteration=model.best_iteration)\n",
    "preds_test = np.clip(preds_test, 0, None)\n",
    "\n",
    "test_feat[\"pred_sales\"] = preds_test\n",
    "\n",
    "# Merge back to original test\n",
    "test_out = test.merge(test_feat[[\"unique_id\",\"date\",\"pred_sales\"]], on=[\"unique_id\",\"date\"], how=\"left\")\n",
    "median_sales = train.groupby(\"unique_id\")[\"sales\"].median().to_dict()\n",
    "test_out[\"sales\"] = test_out.apply(lambda r: median_sales.get(r[\"unique_id\"], 0.0) if pd.isna(r[\"pred_sales\"]) else r[\"pred_sales\"], axis=1)\n",
    "test_out[\"sales\"] = test_out[\"sales\"].clip(lower=0.0)\n",
    "\n",
    "submission = test_out[[\"id\",\"sales\"]].copy()\n",
    "submission.to_csv(\"submission.csv\", index=False)\n",
    "print(\"Saved submission.csv with\", submission.shape[0], \"rows\")"
   ]
  }
 ],
 "metadata": {
  "kaggle": {
   "accelerator": "none",
   "dataSources": [
    {
     "databundleVersionId": 2887556,
     "sourceId": 29781,
     "sourceType": "competition"
    }
   ],
   "dockerImageVersionId": 31089,
   "isGpuEnabled": false,
   "isInternetEnabled": false,
   "language": "python",
   "sourceType": "notebook"
  },
  "kernelspec": {
   "display_name": "Python 3",
   "language": "python",
   "name": "python3"
  },
  "language_info": {
   "codemirror_mode": {
    "name": "ipython",
    "version": 3
   },
   "file_extension": ".py",
   "mimetype": "text/x-python",
   "name": "python",
   "nbconvert_exporter": "python",
   "pygments_lexer": "ipython3",
   "version": "3.11.13"
  },
  "papermill": {
   "default_parameters": {},
   "duration": 180.003532,
   "end_time": "2025-09-24T09:28:41.487861",
   "environment_variables": {},
   "exception": null,
   "input_path": "__notebook__.ipynb",
   "output_path": "__notebook__.ipynb",
   "parameters": {},
   "start_time": "2025-09-24T09:25:41.484329",
   "version": "2.6.0"
  }
 },
 "nbformat": 4,
 "nbformat_minor": 5
}
